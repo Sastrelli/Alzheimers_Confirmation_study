{
 "cells": [
  {
   "cell_type": "code",
   "execution_count": 5,
   "metadata": {},
   "outputs": [],
   "source": [
    "import pandas as pd\n",
    "import matplotlib.pyplot as plt\n",
    "from scipy import stats"
   ]
  },
  {
   "cell_type": "code",
   "execution_count": 6,
   "metadata": {},
   "outputs": [],
   "source": [
    "metadata_dementia = pd.read_excel(\"./data/sea-ad_cohort_donor_metadata_072524 (1).xlsx\")\n",
    "markers = pd.read_excel(\"./data/sea-ad_cohort_mtg-tissue_extractions-luminex_data (1).xlsx\", header=1)\n",
    "markers_metadata = markers.merge(metadata_dementia, on=\"Donor ID\", how=\"inner\")"
   ]
  },
  {
   "cell_type": "code",
   "execution_count": 16,
   "metadata": {},
   "outputs": [
    {
     "name": "stdout",
     "output_type": "stream",
     "text": [
      "ABeta42 pg/ug.1 SignificanceResult(statistic=np.float64(0.36926431479639504), pvalue=np.float64(0.0005468860229021458))\n",
      "ABeta40 pg/ug SignificanceResult(statistic=np.float64(0.1923433925773067), pvalue=np.float64(0.07962795819019367))\n",
      "ABeta42 pg/ug SignificanceResult(statistic=np.float64(0.18929282995609398), pvalue=np.float64(0.08461213592817061))\n",
      "ABeta40 pg/ug.1 SignificanceResult(statistic=np.float64(0.18605310633004082), pvalue=np.float64(0.09017336911961892))\n",
      "pTAU pg/ug SignificanceResult(statistic=np.float64(0.17517290353561218), pvalue=np.float64(0.11098536353592969))\n",
      "pTAU pg/ug SignificanceResult(statistic=np.float64(0.17517290353561218), pvalue=np.float64(0.11098536353592969))\n",
      "tTAU pg/ug.1 SignificanceResult(statistic=np.float64(-0.16526498871761805), pvalue=np.float64(0.13301082174880974))\n",
      "tTAU pg/ug SignificanceResult(statistic=np.float64(-0.12209989238947337), pvalue=np.float64(0.26853526734965566))\n",
      "pTAU pg/ug.1 SignificanceResult(statistic=np.float64(-0.06602811051858709), pvalue=np.float64(0.5506797832291788))\n",
      "pTAU pg/ug.1 SignificanceResult(statistic=np.float64(-0.06602811051858709), pvalue=np.float64(0.5506797832291788))\n"
     ]
    }
   ],
   "source": [
    "# We have boolean variable (has_dementia) and continuous variable (the markers) so that's why\n",
    "# we use the Point-biserial correlation test\n",
    "\n",
    "has_dementia = markers_metadata[\"Cognitive Status\"] == \"Dementia\"\n",
    "stat_tests = []\n",
    "\n",
    "stat_tests.append((\"ABeta40 pg/ug\", stats.pointbiserialr(has_dementia, markers_metadata[\"ABeta40 pg/ug\"])))\n",
    "stat_tests.append((\"ABeta40 pg/ug.1\", stats.pointbiserialr(has_dementia, markers_metadata[\"ABeta40 pg/ug.1\"])))\n",
    "\n",
    "stat_tests.append((\"ABeta42 pg/ug\", stats.pointbiserialr(has_dementia, markers_metadata[\"ABeta42 pg/ug\"])))\n",
    "stat_tests.append((\"ABeta42 pg/ug.1\", stats.pointbiserialr(has_dementia, markers_metadata[\"ABeta42 pg/ug.1\"])))\n",
    "\n",
    "\n",
    "stat_tests.append((\"tTAU pg/ug\", stats.pointbiserialr(has_dementia, markers_metadata[\"tTAU pg/ug\"])))\n",
    "stat_tests.append((\"tTAU pg/ug.1\", stats.pointbiserialr(has_dementia, markers_metadata[\"tTAU pg/ug.1\"])))\n",
    "\n",
    "\n",
    "stat_tests.append((\"pTAU pg/ug\", stats.pointbiserialr(has_dementia, markers_metadata[\"pTAU pg/ug\"])))\n",
    "stat_tests.append((\"pTAU pg/ug.1\", stats.pointbiserialr(has_dementia, markers_metadata[\"pTAU pg/ug.1\"])))\n",
    "\n",
    "stat_tests.append((\"pTAU pg/ug\", stats.pointbiserialr(has_dementia, markers_metadata[\"pTAU pg/ug\"])))\n",
    "stat_tests.append((\"pTAU pg/ug.1\", stats.pointbiserialr(has_dementia, markers_metadata[\"pTAU pg/ug.1\"])))\n",
    "\n",
    "stat_tests.sort(key=lambda x: x[1].pvalue)\n",
    "for marker_name, stat_result in stat_tests:\n",
    "    print(marker_name, stat_result)"
   ]
  },
  {
   "cell_type": "code",
   "execution_count": null,
   "metadata": {},
   "outputs": [],
   "source": []
  }
 ],
 "metadata": {
  "kernelspec": {
   "display_name": "default",
   "language": "python",
   "name": "python3"
  },
  "language_info": {
   "codemirror_mode": {
    "name": "ipython",
    "version": 3
   },
   "file_extension": ".py",
   "mimetype": "text/x-python",
   "name": "python",
   "nbconvert_exporter": "python",
   "pygments_lexer": "ipython3",
   "version": "3.12.2"
  }
 },
 "nbformat": 4,
 "nbformat_minor": 2
}
